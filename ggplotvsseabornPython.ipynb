{
 "cells": [
  {
   "cell_type": "code",
   "execution_count": 6,
   "metadata": {
    "collapsed": false
   },
   "outputs": [],
   "source": [
    "import numpy as np\n",
    "import pandas as pd\n",
    "\n",
    "import matplotlib.pyplot as plt\n",
    "import seaborn as sns\n",
    "sns.set_style('whitegrid')\n",
    "\n",
    "%matplotlib inline\n"
   ]
  },
  {
   "cell_type": "code",
   "execution_count": 7,
   "metadata": {
    "collapsed": false
   },
   "outputs": [],
   "source": [
    "meat = pd.read_csv('/Users/Jake/Projects/ggplotvsseaborn/meat.csv')"
   ]
  },
  {
   "cell_type": "code",
   "execution_count": 22,
   "metadata": {
    "collapsed": false
   },
   "outputs": [],
   "source": []
  },
  {
   "cell_type": "code",
   "execution_count": 15,
   "metadata": {
    "collapsed": false
   },
   "outputs": [
    {
     "data": {
      "text/html": [
       "<div>\n",
       "<table border=\"1\" class=\"dataframe\">\n",
       "  <thead>\n",
       "    <tr style=\"text-align: right;\">\n",
       "      <th></th>\n",
       "      <th>Unnamed: 0</th>\n",
       "      <th>date</th>\n",
       "      <th>beef</th>\n",
       "      <th>veal</th>\n",
       "      <th>pork</th>\n",
       "      <th>lamb_and_mutton</th>\n",
       "      <th>broilers</th>\n",
       "      <th>other_chicken</th>\n",
       "      <th>turkey</th>\n",
       "    </tr>\n",
       "  </thead>\n",
       "  <tbody>\n",
       "    <tr>\n",
       "      <th>0</th>\n",
       "      <td>684</td>\n",
       "      <td>2001-01-01</td>\n",
       "      <td>2205</td>\n",
       "      <td>18</td>\n",
       "      <td>1693</td>\n",
       "      <td>19</td>\n",
       "      <td>2622.2</td>\n",
       "      <td>42.7</td>\n",
       "      <td>461.2</td>\n",
       "    </tr>\n",
       "    <tr>\n",
       "      <th>1</th>\n",
       "      <td>685</td>\n",
       "      <td>2001-02-01</td>\n",
       "      <td>1881</td>\n",
       "      <td>16</td>\n",
       "      <td>1486</td>\n",
       "      <td>17</td>\n",
       "      <td>2322.2</td>\n",
       "      <td>39.7</td>\n",
       "      <td>409.3</td>\n",
       "    </tr>\n",
       "    <tr>\n",
       "      <th>2</th>\n",
       "      <td>686</td>\n",
       "      <td>2001-03-01</td>\n",
       "      <td>2096</td>\n",
       "      <td>16</td>\n",
       "      <td>1626</td>\n",
       "      <td>23</td>\n",
       "      <td>2588.6</td>\n",
       "      <td>44.4</td>\n",
       "      <td>462.0</td>\n",
       "    </tr>\n",
       "    <tr>\n",
       "      <th>3</th>\n",
       "      <td>687</td>\n",
       "      <td>2001-04-01</td>\n",
       "      <td>1939</td>\n",
       "      <td>15</td>\n",
       "      <td>1533</td>\n",
       "      <td>20</td>\n",
       "      <td>2515.7</td>\n",
       "      <td>42.2</td>\n",
       "      <td>428.8</td>\n",
       "    </tr>\n",
       "    <tr>\n",
       "      <th>4</th>\n",
       "      <td>688</td>\n",
       "      <td>2001-05-01</td>\n",
       "      <td>2294</td>\n",
       "      <td>16</td>\n",
       "      <td>1555</td>\n",
       "      <td>17</td>\n",
       "      <td>2835.6</td>\n",
       "      <td>45.6</td>\n",
       "      <td>488.3</td>\n",
       "    </tr>\n",
       "  </tbody>\n",
       "</table>\n",
       "</div>"
      ],
      "text/plain": [
       "   Unnamed: 0        date  beef  veal  pork  lamb_and_mutton  broilers  \\\n",
       "0         684  2001-01-01  2205    18  1693               19    2622.2   \n",
       "1         685  2001-02-01  1881    16  1486               17    2322.2   \n",
       "2         686  2001-03-01  2096    16  1626               23    2588.6   \n",
       "3         687  2001-04-01  1939    15  1533               20    2515.7   \n",
       "4         688  2001-05-01  2294    16  1555               17    2835.6   \n",
       "\n",
       "   other_chicken  turkey  \n",
       "0           42.7   461.2  \n",
       "1           39.7   409.3  \n",
       "2           44.4   462.0  \n",
       "3           42.2   428.8  \n",
       "4           45.6   488.3  "
      ]
     },
     "execution_count": 15,
     "metadata": {},
     "output_type": "execute_result"
    }
   ],
   "source": [
    "meat.head()"
   ]
  },
  {
   "cell_type": "code",
   "execution_count": 16,
   "metadata": {
    "collapsed": false
   },
   "outputs": [
    {
     "data": {
      "text/html": [
       "<div>\n",
       "<table border=\"1\" class=\"dataframe\">\n",
       "  <thead>\n",
       "    <tr style=\"text-align: right;\">\n",
       "      <th></th>\n",
       "      <th>Unnamed: 0</th>\n",
       "      <th>beef</th>\n",
       "      <th>veal</th>\n",
       "      <th>pork</th>\n",
       "      <th>lamb_and_mutton</th>\n",
       "      <th>broilers</th>\n",
       "      <th>other_chicken</th>\n",
       "      <th>turkey</th>\n",
       "    </tr>\n",
       "  </thead>\n",
       "  <tbody>\n",
       "    <tr>\n",
       "      <th>count</th>\n",
       "      <td>143.00000</td>\n",
       "      <td>143.000000</td>\n",
       "      <td>143.000000</td>\n",
       "      <td>143.000000</td>\n",
       "      <td>143.000000</td>\n",
       "      <td>143.000000</td>\n",
       "      <td>143.000000</td>\n",
       "      <td>143.000000</td>\n",
       "    </tr>\n",
       "    <tr>\n",
       "      <th>mean</th>\n",
       "      <td>755.00000</td>\n",
       "      <td>2168.917483</td>\n",
       "      <td>12.882517</td>\n",
       "      <td>1788.632867</td>\n",
       "      <td>15.316783</td>\n",
       "      <td>2921.195105</td>\n",
       "      <td>43.033566</td>\n",
       "      <td>478.225874</td>\n",
       "    </tr>\n",
       "    <tr>\n",
       "      <th>std</th>\n",
       "      <td>41.42463</td>\n",
       "      <td>153.235531</td>\n",
       "      <td>2.334080</td>\n",
       "      <td>171.226743</td>\n",
       "      <td>2.344907</td>\n",
       "      <td>228.697744</td>\n",
       "      <td>3.867141</td>\n",
       "      <td>34.490572</td>\n",
       "    </tr>\n",
       "    <tr>\n",
       "      <th>min</th>\n",
       "      <td>684.00000</td>\n",
       "      <td>1767.400000</td>\n",
       "      <td>8.800000</td>\n",
       "      <td>1435.000000</td>\n",
       "      <td>10.900000</td>\n",
       "      <td>2322.200000</td>\n",
       "      <td>32.300000</td>\n",
       "      <td>398.000000</td>\n",
       "    </tr>\n",
       "    <tr>\n",
       "      <th>25%</th>\n",
       "      <td>719.50000</td>\n",
       "      <td>2070.650000</td>\n",
       "      <td>11.100000</td>\n",
       "      <td>1661.400000</td>\n",
       "      <td>13.550000</td>\n",
       "      <td>2780.550000</td>\n",
       "      <td>40.200000</td>\n",
       "      <td>455.550000</td>\n",
       "    </tr>\n",
       "    <tr>\n",
       "      <th>50%</th>\n",
       "      <td>755.00000</td>\n",
       "      <td>2169.900000</td>\n",
       "      <td>12.400000</td>\n",
       "      <td>1780.200000</td>\n",
       "      <td>15.100000</td>\n",
       "      <td>2927.800000</td>\n",
       "      <td>43.400000</td>\n",
       "      <td>475.000000</td>\n",
       "    </tr>\n",
       "    <tr>\n",
       "      <th>75%</th>\n",
       "      <td>790.50000</td>\n",
       "      <td>2270.400000</td>\n",
       "      <td>14.550000</td>\n",
       "      <td>1897.450000</td>\n",
       "      <td>16.350000</td>\n",
       "      <td>3078.900000</td>\n",
       "      <td>45.650000</td>\n",
       "      <td>501.150000</td>\n",
       "    </tr>\n",
       "    <tr>\n",
       "      <th>max</th>\n",
       "      <td>826.00000</td>\n",
       "      <td>2512.000000</td>\n",
       "      <td>19.000000</td>\n",
       "      <td>2210.400000</td>\n",
       "      <td>23.000000</td>\n",
       "      <td>3383.800000</td>\n",
       "      <td>51.100000</td>\n",
       "      <td>585.100000</td>\n",
       "    </tr>\n",
       "  </tbody>\n",
       "</table>\n",
       "</div>"
      ],
      "text/plain": [
       "       Unnamed: 0         beef        veal         pork  lamb_and_mutton  \\\n",
       "count   143.00000   143.000000  143.000000   143.000000       143.000000   \n",
       "mean    755.00000  2168.917483   12.882517  1788.632867        15.316783   \n",
       "std      41.42463   153.235531    2.334080   171.226743         2.344907   \n",
       "min     684.00000  1767.400000    8.800000  1435.000000        10.900000   \n",
       "25%     719.50000  2070.650000   11.100000  1661.400000        13.550000   \n",
       "50%     755.00000  2169.900000   12.400000  1780.200000        15.100000   \n",
       "75%     790.50000  2270.400000   14.550000  1897.450000        16.350000   \n",
       "max     826.00000  2512.000000   19.000000  2210.400000        23.000000   \n",
       "\n",
       "          broilers  other_chicken      turkey  \n",
       "count   143.000000     143.000000  143.000000  \n",
       "mean   2921.195105      43.033566  478.225874  \n",
       "std     228.697744       3.867141   34.490572  \n",
       "min    2322.200000      32.300000  398.000000  \n",
       "25%    2780.550000      40.200000  455.550000  \n",
       "50%    2927.800000      43.400000  475.000000  \n",
       "75%    3078.900000      45.650000  501.150000  \n",
       "max    3383.800000      51.100000  585.100000  "
      ]
     },
     "execution_count": 16,
     "metadata": {},
     "output_type": "execute_result"
    }
   ],
   "source": [
    "meat.describe()"
   ]
  },
  {
   "cell_type": "code",
   "execution_count": 70,
   "metadata": {
    "collapsed": false
   },
   "outputs": [
    {
     "data": {
      "text/html": [
       "<div>\n",
       "<table border=\"1\" class=\"dataframe\">\n",
       "  <thead>\n",
       "    <tr style=\"text-align: right;\">\n",
       "      <th></th>\n",
       "      <th>Unnamed: 0</th>\n",
       "      <th>date</th>\n",
       "      <th>beef</th>\n",
       "      <th>veal</th>\n",
       "      <th>pork</th>\n",
       "      <th>lamb_and_mutton</th>\n",
       "      <th>broilers</th>\n",
       "      <th>other_chicken</th>\n",
       "      <th>turkey</th>\n",
       "    </tr>\n",
       "  </thead>\n",
       "  <tbody>\n",
       "    <tr>\n",
       "      <th>0</th>\n",
       "      <td>684</td>\n",
       "      <td>2001-01-01</td>\n",
       "      <td>2205</td>\n",
       "      <td>18</td>\n",
       "      <td>1693</td>\n",
       "      <td>19</td>\n",
       "      <td>2622.2</td>\n",
       "      <td>42.7</td>\n",
       "      <td>461.2</td>\n",
       "    </tr>\n",
       "    <tr>\n",
       "      <th>1</th>\n",
       "      <td>685</td>\n",
       "      <td>2001-02-01</td>\n",
       "      <td>1881</td>\n",
       "      <td>16</td>\n",
       "      <td>1486</td>\n",
       "      <td>17</td>\n",
       "      <td>2322.2</td>\n",
       "      <td>39.7</td>\n",
       "      <td>409.3</td>\n",
       "    </tr>\n",
       "    <tr>\n",
       "      <th>2</th>\n",
       "      <td>686</td>\n",
       "      <td>2001-03-01</td>\n",
       "      <td>2096</td>\n",
       "      <td>16</td>\n",
       "      <td>1626</td>\n",
       "      <td>23</td>\n",
       "      <td>2588.6</td>\n",
       "      <td>44.4</td>\n",
       "      <td>462.0</td>\n",
       "    </tr>\n",
       "    <tr>\n",
       "      <th>3</th>\n",
       "      <td>687</td>\n",
       "      <td>2001-04-01</td>\n",
       "      <td>1939</td>\n",
       "      <td>15</td>\n",
       "      <td>1533</td>\n",
       "      <td>20</td>\n",
       "      <td>2515.7</td>\n",
       "      <td>42.2</td>\n",
       "      <td>428.8</td>\n",
       "    </tr>\n",
       "    <tr>\n",
       "      <th>4</th>\n",
       "      <td>688</td>\n",
       "      <td>2001-05-01</td>\n",
       "      <td>2294</td>\n",
       "      <td>16</td>\n",
       "      <td>1555</td>\n",
       "      <td>17</td>\n",
       "      <td>2835.6</td>\n",
       "      <td>45.6</td>\n",
       "      <td>488.3</td>\n",
       "    </tr>\n",
       "  </tbody>\n",
       "</table>\n",
       "</div>"
      ],
      "text/plain": [
       "   Unnamed: 0       date  beef  veal  pork  lamb_and_mutton  broilers  \\\n",
       "0         684 2001-01-01  2205    18  1693               19    2622.2   \n",
       "1         685 2001-02-01  1881    16  1486               17    2322.2   \n",
       "2         686 2001-03-01  2096    16  1626               23    2588.6   \n",
       "3         687 2001-04-01  1939    15  1533               20    2515.7   \n",
       "4         688 2001-05-01  2294    16  1555               17    2835.6   \n",
       "\n",
       "   other_chicken  turkey  \n",
       "0           42.7   461.2  \n",
       "1           39.7   409.3  \n",
       "2           44.4   462.0  \n",
       "3           42.2   428.8  \n",
       "4           45.6   488.3  "
      ]
     },
     "execution_count": 70,
     "metadata": {},
     "output_type": "execute_result"
    }
   ],
   "source": [
    "meat['date'] = pd.to_datetime(meat['date'])\n",
    "\n",
    "meat.head()\n"
   ]
  },
  {
   "cell_type": "code",
   "execution_count": 71,
   "metadata": {
    "collapsed": false
   },
   "outputs": [],
   "source": [
    "meat.drop(meat.columns[[0]], axis=1, inplace=True)\n",
    "\n",
    "\n"
   ]
  },
  {
   "cell_type": "code",
   "execution_count": 86,
   "metadata": {
    "collapsed": false
   },
   "outputs": [
    {
     "data": {
      "text/html": [
       "<div>\n",
       "<table border=\"1\" class=\"dataframe\">\n",
       "  <thead>\n",
       "    <tr style=\"text-align: right;\">\n",
       "      <th></th>\n",
       "      <th>date</th>\n",
       "      <th>beef</th>\n",
       "      <th>veal</th>\n",
       "      <th>pork</th>\n",
       "      <th>lamb_and_mutton</th>\n",
       "      <th>broilers</th>\n",
       "      <th>other_chicken</th>\n",
       "      <th>turkey</th>\n",
       "    </tr>\n",
       "  </thead>\n",
       "  <tbody>\n",
       "    <tr>\n",
       "      <th>0</th>\n",
       "      <td>2001-01-01</td>\n",
       "      <td>2205</td>\n",
       "      <td>18</td>\n",
       "      <td>1693</td>\n",
       "      <td>19</td>\n",
       "      <td>2622.2</td>\n",
       "      <td>42.7</td>\n",
       "      <td>461.2</td>\n",
       "    </tr>\n",
       "    <tr>\n",
       "      <th>1</th>\n",
       "      <td>2001-02-01</td>\n",
       "      <td>1881</td>\n",
       "      <td>16</td>\n",
       "      <td>1486</td>\n",
       "      <td>17</td>\n",
       "      <td>2322.2</td>\n",
       "      <td>39.7</td>\n",
       "      <td>409.3</td>\n",
       "    </tr>\n",
       "    <tr>\n",
       "      <th>2</th>\n",
       "      <td>2001-03-01</td>\n",
       "      <td>2096</td>\n",
       "      <td>16</td>\n",
       "      <td>1626</td>\n",
       "      <td>23</td>\n",
       "      <td>2588.6</td>\n",
       "      <td>44.4</td>\n",
       "      <td>462.0</td>\n",
       "    </tr>\n",
       "    <tr>\n",
       "      <th>3</th>\n",
       "      <td>2001-04-01</td>\n",
       "      <td>1939</td>\n",
       "      <td>15</td>\n",
       "      <td>1533</td>\n",
       "      <td>20</td>\n",
       "      <td>2515.7</td>\n",
       "      <td>42.2</td>\n",
       "      <td>428.8</td>\n",
       "    </tr>\n",
       "    <tr>\n",
       "      <th>4</th>\n",
       "      <td>2001-05-01</td>\n",
       "      <td>2294</td>\n",
       "      <td>16</td>\n",
       "      <td>1555</td>\n",
       "      <td>17</td>\n",
       "      <td>2835.6</td>\n",
       "      <td>45.6</td>\n",
       "      <td>488.3</td>\n",
       "    </tr>\n",
       "  </tbody>\n",
       "</table>\n",
       "</div>"
      ],
      "text/plain": [
       "        date  beef  veal  pork  lamb_and_mutton  broilers  other_chicken  \\\n",
       "0 2001-01-01  2205    18  1693               19    2622.2           42.7   \n",
       "1 2001-02-01  1881    16  1486               17    2322.2           39.7   \n",
       "2 2001-03-01  2096    16  1626               23    2588.6           44.4   \n",
       "3 2001-04-01  1939    15  1533               20    2515.7           42.2   \n",
       "4 2001-05-01  2294    16  1555               17    2835.6           45.6   \n",
       "\n",
       "   turkey  \n",
       "0   461.2  \n",
       "1   409.3  \n",
       "2   462.0  \n",
       "3   428.8  \n",
       "4   488.3  "
      ]
     },
     "execution_count": 86,
     "metadata": {},
     "output_type": "execute_result"
    }
   ],
   "source": [
    "meat.head()\n",
    "meat['date'] = pd.to_datetime(meat['date'])\n",
    "meat.head()\n"
   ]
  },
  {
   "cell_type": "code",
   "execution_count": 89,
   "metadata": {
    "collapsed": false
   },
   "outputs": [
    {
     "data": {
      "text/html": [
       "<div>\n",
       "<table border=\"1\" class=\"dataframe\">\n",
       "  <thead>\n",
       "    <tr style=\"text-align: right;\">\n",
       "      <th></th>\n",
       "      <th>date</th>\n",
       "      <th>beef</th>\n",
       "      <th>veal</th>\n",
       "      <th>pork</th>\n",
       "      <th>lamb_and_mutton</th>\n",
       "      <th>broilers</th>\n",
       "      <th>other_chicken</th>\n",
       "      <th>turkey</th>\n",
       "      <th>year</th>\n",
       "    </tr>\n",
       "  </thead>\n",
       "  <tbody>\n",
       "    <tr>\n",
       "      <th>0</th>\n",
       "      <td>2001-01-01</td>\n",
       "      <td>2205</td>\n",
       "      <td>18</td>\n",
       "      <td>1693</td>\n",
       "      <td>19</td>\n",
       "      <td>2622.2</td>\n",
       "      <td>42.7</td>\n",
       "      <td>461.2</td>\n",
       "      <td>2001</td>\n",
       "    </tr>\n",
       "    <tr>\n",
       "      <th>1</th>\n",
       "      <td>2001-02-01</td>\n",
       "      <td>1881</td>\n",
       "      <td>16</td>\n",
       "      <td>1486</td>\n",
       "      <td>17</td>\n",
       "      <td>2322.2</td>\n",
       "      <td>39.7</td>\n",
       "      <td>409.3</td>\n",
       "      <td>2001</td>\n",
       "    </tr>\n",
       "    <tr>\n",
       "      <th>2</th>\n",
       "      <td>2001-03-01</td>\n",
       "      <td>2096</td>\n",
       "      <td>16</td>\n",
       "      <td>1626</td>\n",
       "      <td>23</td>\n",
       "      <td>2588.6</td>\n",
       "      <td>44.4</td>\n",
       "      <td>462.0</td>\n",
       "      <td>2001</td>\n",
       "    </tr>\n",
       "    <tr>\n",
       "      <th>3</th>\n",
       "      <td>2001-04-01</td>\n",
       "      <td>1939</td>\n",
       "      <td>15</td>\n",
       "      <td>1533</td>\n",
       "      <td>20</td>\n",
       "      <td>2515.7</td>\n",
       "      <td>42.2</td>\n",
       "      <td>428.8</td>\n",
       "      <td>2001</td>\n",
       "    </tr>\n",
       "    <tr>\n",
       "      <th>4</th>\n",
       "      <td>2001-05-01</td>\n",
       "      <td>2294</td>\n",
       "      <td>16</td>\n",
       "      <td>1555</td>\n",
       "      <td>17</td>\n",
       "      <td>2835.6</td>\n",
       "      <td>45.6</td>\n",
       "      <td>488.3</td>\n",
       "      <td>2001</td>\n",
       "    </tr>\n",
       "  </tbody>\n",
       "</table>\n",
       "</div>"
      ],
      "text/plain": [
       "        date  beef  veal  pork  lamb_and_mutton  broilers  other_chicken  \\\n",
       "0 2001-01-01  2205    18  1693               19    2622.2           42.7   \n",
       "1 2001-02-01  1881    16  1486               17    2322.2           39.7   \n",
       "2 2001-03-01  2096    16  1626               23    2588.6           44.4   \n",
       "3 2001-04-01  1939    15  1533               20    2515.7           42.2   \n",
       "4 2001-05-01  2294    16  1555               17    2835.6           45.6   \n",
       "\n",
       "   turkey  year  \n",
       "0   461.2  2001  \n",
       "1   409.3  2001  \n",
       "2   462.0  2001  \n",
       "3   428.8  2001  \n",
       "4   488.3  2001  "
      ]
     },
     "execution_count": 89,
     "metadata": {},
     "output_type": "execute_result"
    }
   ],
   "source": [
    "meat['year'] = meat['date'].dt.year\n",
    "meat.head()"
   ]
  },
  {
   "cell_type": "code",
   "execution_count": 91,
   "metadata": {
    "collapsed": false
   },
   "outputs": [
    {
     "data": {
      "text/html": [
       "<div>\n",
       "<table border=\"1\" class=\"dataframe\">\n",
       "  <thead>\n",
       "    <tr style=\"text-align: right;\">\n",
       "      <th></th>\n",
       "      <th>beef</th>\n",
       "      <th>veal</th>\n",
       "      <th>pork</th>\n",
       "      <th>lamb_and_mutton</th>\n",
       "      <th>broilers</th>\n",
       "      <th>other_chicken</th>\n",
       "      <th>turkey</th>\n",
       "    </tr>\n",
       "    <tr>\n",
       "      <th>year</th>\n",
       "      <th></th>\n",
       "      <th></th>\n",
       "      <th></th>\n",
       "      <th></th>\n",
       "      <th></th>\n",
       "      <th></th>\n",
       "      <th></th>\n",
       "    </tr>\n",
       "  </thead>\n",
       "  <tbody>\n",
       "    <tr>\n",
       "      <th>2001</th>\n",
       "      <td>26107.0</td>\n",
       "      <td>195.0</td>\n",
       "      <td>19138</td>\n",
       "      <td>223.0</td>\n",
       "      <td>31265.8</td>\n",
       "      <td>515.9</td>\n",
       "      <td>5561.7</td>\n",
       "    </tr>\n",
       "    <tr>\n",
       "      <th>2002</th>\n",
       "      <td>27090.0</td>\n",
       "      <td>195.7</td>\n",
       "      <td>19664</td>\n",
       "      <td>217.9</td>\n",
       "      <td>32239.8</td>\n",
       "      <td>547.1</td>\n",
       "      <td>5712.8</td>\n",
       "    </tr>\n",
       "    <tr>\n",
       "      <th>2003</th>\n",
       "      <td>26237.0</td>\n",
       "      <td>191.6</td>\n",
       "      <td>19945</td>\n",
       "      <td>199.6</td>\n",
       "      <td>32749.0</td>\n",
       "      <td>502.6</td>\n",
       "      <td>5650.3</td>\n",
       "    </tr>\n",
       "    <tr>\n",
       "      <th>2004</th>\n",
       "      <td>24548.0</td>\n",
       "      <td>166.8</td>\n",
       "      <td>20509</td>\n",
       "      <td>194.2</td>\n",
       "      <td>33745.8</td>\n",
       "      <td>504.2</td>\n",
       "      <td>5454.2</td>\n",
       "    </tr>\n",
       "    <tr>\n",
       "      <th>2005</th>\n",
       "      <td>24682.6</td>\n",
       "      <td>155.8</td>\n",
       "      <td>20685</td>\n",
       "      <td>187.2</td>\n",
       "      <td>35364.8</td>\n",
       "      <td>516.4</td>\n",
       "      <td>5504.3</td>\n",
       "    </tr>\n",
       "  </tbody>\n",
       "</table>\n",
       "</div>"
      ],
      "text/plain": [
       "         beef   veal   pork  lamb_and_mutton  broilers  other_chicken  turkey\n",
       "year                                                                         \n",
       "2001  26107.0  195.0  19138            223.0   31265.8          515.9  5561.7\n",
       "2002  27090.0  195.7  19664            217.9   32239.8          547.1  5712.8\n",
       "2003  26237.0  191.6  19945            199.6   32749.0          502.6  5650.3\n",
       "2004  24548.0  166.8  20509            194.2   33745.8          504.2  5454.2\n",
       "2005  24682.6  155.8  20685            187.2   35364.8          516.4  5504.3"
      ]
     },
     "execution_count": 91,
     "metadata": {},
     "output_type": "execute_result"
    }
   ],
   "source": [
    "meat_by_year = meat.groupby(meat.year).sum().head(10)\n",
    "meat_by_year.head()\n"
   ]
  },
  {
   "cell_type": "code",
   "execution_count": 97,
   "metadata": {
    "collapsed": false
   },
   "outputs": [
    {
     "name": "stdout",
     "output_type": "stream",
     "text": [
      "Int64Index([2001, 2002, 2003, 2004, 2005, 2006, 2007, 2008, 2009, 2010], dtype='int64', name=u'year')\n"
     ]
    }
   ],
   "source": [
    "#Python/Pandas GroupBy delivers a dataframe with an index - this makes plotting a little bit unintuitive(compared to R)\n",
    "x_values = meat_by_year.index\n"
   ]
  },
  {
   "cell_type": "code",
   "execution_count": 98,
   "metadata": {
    "collapsed": false
   },
   "outputs": [
    {
     "data": {
      "text/plain": [
       "<matplotlib.axes._subplots.AxesSubplot at 0x10a041910>"
      ]
     },
     "execution_count": 98,
     "metadata": {},
     "output_type": "execute_result"
    },
    {
     "data": {
      "image/png": "[encoded data removed]",
      "text/plain": [
       "<matplotlib.figure.Figure at 0x10a0dee90>"
      ]
     },
     "metadata": {},
     "output_type": "display_data"
    }
   ],
   "source": [
    "\n",
    "\n",
    "sns.barplot(x = meat_by_year.index, y = 'beef', data = meat_by_year, palette = 'winter')\n"
   ]
  },
  {
   "cell_type": "code",
   "execution_count": 101,
   "metadata": {
    "collapsed": false
   },
   "outputs": [
    {
     "data": {
      "text/html": [
       "<div>\n",
       "<table border=\"1\" class=\"dataframe\">\n",
       "  <thead>\n",
       "    <tr style=\"text-align: right;\">\n",
       "      <th></th>\n",
       "      <th>date</th>\n",
       "      <th>variable</th>\n",
       "      <th>value</th>\n",
       "    </tr>\n",
       "  </thead>\n",
       "  <tbody>\n",
       "    <tr>\n",
       "      <th>0</th>\n",
       "      <td>2001-01-01</td>\n",
       "      <td>beef</td>\n",
       "      <td>2205</td>\n",
       "    </tr>\n",
       "    <tr>\n",
       "      <th>1</th>\n",
       "      <td>2001-02-01</td>\n",
       "      <td>beef</td>\n",
       "      <td>1881</td>\n",
       "    </tr>\n",
       "    <tr>\n",
       "      <th>2</th>\n",
       "      <td>2001-03-01</td>\n",
       "      <td>beef</td>\n",
       "      <td>2096</td>\n",
       "    </tr>\n",
       "    <tr>\n",
       "      <th>3</th>\n",
       "      <td>2001-04-01</td>\n",
       "      <td>beef</td>\n",
       "      <td>1939</td>\n",
       "    </tr>\n",
       "    <tr>\n",
       "      <th>4</th>\n",
       "      <td>2001-05-01</td>\n",
       "      <td>beef</td>\n",
       "      <td>2294</td>\n",
       "    </tr>\n",
       "  </tbody>\n",
       "</table>\n",
       "</div>"
      ],
      "text/plain": [
       "        date variable  value\n",
       "0 2001-01-01     beef   2205\n",
       "1 2001-02-01     beef   1881\n",
       "2 2001-03-01     beef   2096\n",
       "3 2001-04-01     beef   1939\n",
       "4 2001-05-01     beef   2294"
      ]
     },
     "execution_count": 101,
     "metadata": {},
     "output_type": "execute_result"
    }
   ],
   "source": [
    "#melt the dataset:\n",
    "\n",
    "meat_melt = pd.melt(meat, id_vars=['date'])\n",
    "meat_melt.head()"
   ]
  },
  {
   "cell_type": "code",
   "execution_count": 109,
   "metadata": {
    "collapsed": false
   },
   "outputs": [
    {
     "data": {
      "text/plain": [
       "<matplotlib.axes._subplots.AxesSubplot at 0x10a780110>"
      ]
     },
     "execution_count": 109,
     "metadata": {},
     "output_type": "execute_result"
    },
    {
     "data": {
      "image/png": "[encoded data removed]",
      "text/plain": [
       "<matplotlib.figure.Figure at 0x10a78f950>"
      ]
     },
     "metadata": {},
     "output_type": "display_data"
    }
   ],
   "source": [
    "meat[['beef', 'pork', 'turkey']].plot()\n"
   ]
  },
  {
   "cell_type": "code",
   "execution_count": 110,
   "metadata": {
    "collapsed": false
   },
   "outputs": [],
   "source": [
    "#Overall, I think seaborn is slightly less intuitive than ggplot. I prefer R for manipulation and plotting tasks, with python for predictive analytics."
   ]
  },
  {
   "cell_type": "code",
   "execution_count": null,
   "metadata": {
    "collapsed": true
   },
   "outputs": [],
   "source": []
  }
 ],
 "metadata": {
  "kernelspec": {
   "display_name": "Python 2",
   "language": "python",
   "name": "python2"
  },
  "language_info": {
   "codemirror_mode": {
    "name": "ipython",
    "version": 2
   },
   "file_extension": ".py",
   "mimetype": "text/x-python",
   "name": "python",
   "nbconvert_exporter": "python",
   "pygments_lexer": "ipython2",
   "version": "2.7.11"
  }
 },
 "nbformat": 4,
 "nbformat_minor": 0
}
